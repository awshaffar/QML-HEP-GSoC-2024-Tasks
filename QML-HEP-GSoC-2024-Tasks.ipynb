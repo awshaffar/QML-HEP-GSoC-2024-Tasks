{
 "cells": [
  {
   "cell_type": "markdown",
   "metadata": {},
   "source": [
    "# Task I: Quantum Computing Part "
   ]
  },
  {
   "cell_type": "markdown",
   "metadata": {},
   "source": [
    "1. implement a simple quantum operation with Cirq or Pennylane\n",
    "    1. With 5 qubits \n",
    "    2. Apply Hadamard operation on every qubit \n",
    "    3. Apply CNOT operation on (0, 1), (1,2), (2,3), (3,4) \n",
    "    4. SWAP (0, 4) \n",
    "    5. Rotate X with pi/2 on any qubit \n",
    "    6. Plot the circuit \n",
    "2. Implement a second circuit with a framework of your choice:\n",
    "    1. Apply a Hadmard gate to the first qubit\n",
    "    2. rotate the second qubit by pi/3 around X\n",
    "    3. Apply Hadamard gate to the third and fourth qubit\n",
    "    4. Perform a swap test between the states of the first and second qubit |q1 q2> and the third and fourth qubit |q3 q4>\n"
   ]
  },
  {
   "cell_type": "code",
   "execution_count": null,
   "metadata": {},
   "outputs": [],
   "source": []
  }
 ],
 "metadata": {
  "language_info": {
   "name": "python"
  }
 },
 "nbformat": 4,
 "nbformat_minor": 2
}
